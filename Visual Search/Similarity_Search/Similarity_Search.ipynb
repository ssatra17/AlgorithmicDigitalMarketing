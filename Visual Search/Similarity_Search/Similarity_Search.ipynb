{
  "nbformat": 4,
  "nbformat_minor": 0,
  "metadata": {
    "colab": {
      "name": "Similarity_Search.ipynb",
      "provenance": [],
      "collapsed_sections": []
    },
    "kernelspec": {
      "name": "python3",
      "display_name": "Python 3"
    }
  },
  "cells": [
    {
      "cell_type": "code",
      "metadata": {
        "id": "-p_ZHme8X5c6",
        "colab_type": "code",
        "colab": {
          "base_uri": "https://localhost:8080/",
          "height": 34
        },
        "outputId": "04467b9a-61ff-4768-8812-0876feae6d54"
      },
      "source": [
        "import tensorflow as tf\n",
        "from tensorflow.keras.applications.vgg19 import preprocess_input\n",
        "from tensorflow.keras.models import Model\n",
        "print(tf.__version__)\n",
        "\n",
        "import matplotlib.pyplot as plt\n",
        "import numpy as np\n",
        "from tqdm import tqdm\n",
        "\n",
        "import glob\n",
        "import ntpath\n",
        "import cv2\n",
        "\n",
        "from sklearn.metrics.pairwise import cosine_similarity\n",
        "import scipy as sc"
      ],
      "execution_count": null,
      "outputs": [
        {
          "output_type": "stream",
          "text": [
            "2.2.0\n"
          ],
          "name": "stdout"
        }
      ]
    },
    {
      "cell_type": "code",
      "metadata": {
        "id": "_FWe5dLDr1qR",
        "colab_type": "code",
        "colab": {
          "base_uri": "https://localhost:8080/",
          "height": 34
        },
        "outputId": "acc0e344-61b6-46f8-b6ba-264089b2d946"
      },
      "source": [
        "from google.colab import drive\n",
        "drive.mount('/content/drive')"
      ],
      "execution_count": null,
      "outputs": [
        {
          "output_type": "stream",
          "text": [
            "Drive already mounted at /content/drive; to attempt to forcibly remount, call drive.mount(\"/content/drive\", force_remount=True).\n"
          ],
          "name": "stdout"
        }
      ]
    },
    {
      "cell_type": "code",
      "metadata": {
        "id": "O-4r0oO2YDl2",
        "colab_type": "code",
        "colab": {
          "base_uri": "https://localhost:8080/",
          "height": 483
        },
        "outputId": "5dc5a7bd-6f55-4e8b-cf42-55e4576feb38"
      },
      "source": [
        "image_paths = glob.glob('/content/drive/My Drive/Assignment_3/QWERT/*.jpg')\n",
        "print(f'Founnd [{len(image_paths)}] images')\n",
        "\n",
        "images = {}\n",
        "for image_path in image_paths:\n",
        "    image = cv2.imread(image_path, 3)\n",
        "    b,g,r = cv2.split(image)           # get b, g, r\n",
        "    \n",
        "    image = cv2.merge([r,g,b])         # switch it to r, g, b\n",
        "    image = cv2.resize(image, (200, 200))\n",
        "    images[ntpath.basename(image_path)] = image      \n",
        "\n",
        "n_col = 8\n",
        "n_row = int(len(images)/n_col)\n",
        "f, ax = plt.subplots(n_row, n_col, figsize=(16, 8))\n",
        "for i in range(n_row):\n",
        "    for j in range(n_col):\n",
        "        ax[i, j].imshow(list(images.values())[n_col*i + j])\n",
        "        ax[i, j].set_axis_off()"
      ],
      "execution_count": null,
      "outputs": [
        {
          "output_type": "stream",
          "text": [
            "Founnd [10000] images\n"
          ],
          "name": "stdout"
        },
        {
          "output_type": "display_data",
          "data": {
            "image/png": "[encoded data removed]",
            "text/plain": [
              "<Figure size 1152x576 with 10000 Axes>"
            ]
          },
          "metadata": {
            "tags": [],
            "needs_background": "light"
          }
        }
      ]
    },
    {
      "cell_type": "code",
      "metadata": {
        "id": "q7v3oGpfeqNF",
        "colab_type": "code",
        "colab": {
          "base_uri": "https://localhost:8080/",
          "height": 67
        },
        "outputId": "62eb3938-1a1f-47b1-d846-1263383b035e"
      },
      "source": [
        "def load_image(image):\n",
        "  image = plt.imread(image)\n",
        "  img = tf.image.convert_image_dtype(image, tf.float32)\n",
        "  img = tf.image.resize(img, [400, 400])\n",
        "  img = img[tf.newaxis, :] # shape -> (batch_size, h, w, d)\n",
        "  return img\n",
        "\n",
        "# content layers describe the image subject\n",
        "content_layers = ['block5_conv2'] \n",
        "\n",
        "# style layers describe the image style\n",
        "# we exclude the upper level layes to focus on small-size style details\n",
        "style_layers = [ \n",
        "        'block1_conv1',\n",
        "        'block2_conv1',\n",
        "        'block3_conv1', \n",
        "        #'block4_conv1', \n",
        "        #'block5_conv1'\n",
        "    ] \n",
        "\n",
        "def selected_layers_model(layer_names, baseline_model):\n",
        "  outputs = [baseline_model.get_layer(name).output for name in layer_names]\n",
        "  model = Model([vgg.input], outputs)\n",
        "  return model\n",
        "\n",
        "# style embedding is computed as concatenation of gram matrices of the style layers\n",
        "def gram_matrix(input_tensor):\n",
        "  result = tf.linalg.einsum('bijc,bijd->bcd', input_tensor, input_tensor)\n",
        "  input_shape = tf.shape(input_tensor)\n",
        "  num_locations = tf.cast(input_shape[1]*input_shape[2], tf.float32)\n",
        "  return result/(num_locations)\n",
        "\n",
        "class StyleModel(tf.keras.models.Model):\n",
        "  def __init__(self, style_layers, content_layers):\n",
        "    super(StyleModel, self).__init__()\n",
        "    self.vgg =  selected_layers_model(style_layers + content_layers, vgg)\n",
        "    self.style_layers = style_layers\n",
        "    self.content_layers = content_layers\n",
        "    self.num_style_layers = len(style_layers)\n",
        "    self.vgg.trainable = False\n",
        "\n",
        "  def call(self, inputs):\n",
        "    # scale back the pixel values\n",
        "    inputs = inputs*255.0\n",
        "    # preprocess them with respect to VGG19 stats\n",
        "    preprocessed_input = preprocess_input(inputs)\n",
        "    # pass through the reduced network\n",
        "    outputs = self.vgg(preprocessed_input)\n",
        "    # segregate the style and content representations\n",
        "    style_outputs, content_outputs = (outputs[:self.num_style_layers],\n",
        "                                      outputs[self.num_style_layers:])\n",
        "\n",
        "    # calculate the gram matrix for each layer\n",
        "    style_outputs = [gram_matrix(style_output)\n",
        "                     for style_output in style_outputs]\n",
        "\n",
        "    # assign the content representation and gram matrix in\n",
        "    # a layer by layer fashion in dicts\n",
        "    content_dict = {content_name:value\n",
        "                    for content_name, value\n",
        "                    in zip(self.content_layers, content_outputs)}\n",
        "\n",
        "    style_dict = {style_name:value\n",
        "                  for style_name, value\n",
        "                  in zip(self.style_layers, style_outputs)}\n",
        "\n",
        "    return {'content':content_dict, 'style':style_dict}\n",
        "\n",
        "vgg = tf.keras.applications.VGG19(include_top=False, weights='imagenet')\n",
        "\n",
        "def image_to_style(image_tensor):\n",
        "    extractor = StyleModel(style_layers, content_layers)\n",
        "    return extractor(image_tensor)['style']\n",
        "\n",
        "def style_to_vec(style):\n",
        "    # concatenate gram matrics in a flat vector\n",
        "    return np.hstack([np.ravel(s) for s in style.values()]) \n",
        "    \n",
        "# compute styles\n",
        "image_style_embeddings = {}\n",
        "for image_path in tqdm(image_paths): \n",
        "    image_tensor = load_image(image_path)\n",
        "    style = style_to_vec( image_to_style(image_tensor) )\n",
        "    image_style_embeddings[ntpath.basename(image_path)] = style"
      ],
      "execution_count": null,
      "outputs": [
        {
          "output_type": "stream",
          "text": [
            "Downloading data from https://storage.googleapis.com/tensorflow/keras-applications/vgg19/vgg19_weights_tf_dim_ordering_tf_kernels_notop.h5\n",
            "80142336/80134624 [==============================] - 1s 0us/step\n"
          ],
          "name": "stdout"
        },
        {
          "output_type": "stream",
          "text": [
            "100%|██████████| 10000/10000 [5:49:54<00:00,  2.10s/it]\n"
          ],
          "name": "stderr"
        }
      ]
    },
    {
      "cell_type": "code",
      "metadata": {
        "id": "XgBV9yGQfJuh",
        "colab_type": "code",
        "colab": {}
      },
      "source": [
        "def search_by_style(reference_image, max_results=10):\n",
        "    v0 = image_style_embeddings[reference_image]\n",
        "    distances = {}\n",
        "    for k,v in image_style_embeddings.items():\n",
        "        d = sc.spatial.distance.cosine(v0, v)\n",
        "        distances[k] = d\n",
        "\n",
        "    sorted_neighbors = sorted(distances.items(), key=lambda x: x[1], reverse=False)\n",
        "    \n",
        "    f, ax = plt.subplots(1, max_results, figsize=(16, 8))\n",
        "    for i, img in enumerate(sorted_neighbors[:max_results]):\n",
        "        ax[i].imshow(images[img[0]])\n",
        "        ax[i].set_axis_off()\n",
        "    \n",
        "    plt.show()"
      ],
      "execution_count": null,
      "outputs": []
    },
    {
      "cell_type": "code",
      "metadata": {
        "id": "7WphSTdPjNmf",
        "colab_type": "code",
        "colab": {
          "base_uri": "https://localhost:8080/",
          "height": 296
        },
        "outputId": "1e4d69c8-5c13-4eeb-da19-ecadac299b6c"
      },
      "source": [
        "#images mostly match the reference style, although not perfectly\n",
        "search_by_style('1000002361_3159.jpg')"
      ],
      "execution_count": null,
      "outputs": [
        {
          "output_type": "error",
          "ename": "NameError",
          "evalue": "ignored",
          "traceback": [
            "\u001b[0;31m---------------------------------------------------------------------------\u001b[0m",
            "\u001b[0;31mNameError\u001b[0m                                 Traceback (most recent call last)",
            "\u001b[0;32m<ipython-input-4-9406c15b4a11>\u001b[0m in \u001b[0;36m<module>\u001b[0;34m()\u001b[0m\n\u001b[1;32m      1\u001b[0m \u001b[0;31m#images mostly match the reference style, although not perfectly\u001b[0m\u001b[0;34m\u001b[0m\u001b[0;34m\u001b[0m\u001b[0;34m\u001b[0m\u001b[0m\n\u001b[0;32m----> 2\u001b[0;31m \u001b[0msearch_by_style\u001b[0m\u001b[0;34m(\u001b[0m\u001b[0;34m'1000002361_3159.jpg'\u001b[0m\u001b[0;34m)\u001b[0m\u001b[0;34m\u001b[0m\u001b[0;34m\u001b[0m\u001b[0m\n\u001b[0m",
            "\u001b[0;32m<ipython-input-3-dffa8887020d>\u001b[0m in \u001b[0;36msearch_by_style\u001b[0;34m(reference_image, max_results)\u001b[0m\n\u001b[1;32m      1\u001b[0m \u001b[0;32mdef\u001b[0m \u001b[0msearch_by_style\u001b[0m\u001b[0;34m(\u001b[0m\u001b[0mreference_image\u001b[0m\u001b[0;34m,\u001b[0m \u001b[0mmax_results\u001b[0m\u001b[0;34m=\u001b[0m\u001b[0;36m10\u001b[0m\u001b[0;34m)\u001b[0m\u001b[0;34m:\u001b[0m\u001b[0;34m\u001b[0m\u001b[0;34m\u001b[0m\u001b[0m\n\u001b[0;32m----> 2\u001b[0;31m     \u001b[0mv0\u001b[0m \u001b[0;34m=\u001b[0m \u001b[0mimage_style_embeddings\u001b[0m\u001b[0;34m[\u001b[0m\u001b[0mreference_image\u001b[0m\u001b[0;34m]\u001b[0m\u001b[0;34m\u001b[0m\u001b[0;34m\u001b[0m\u001b[0m\n\u001b[0m\u001b[1;32m      3\u001b[0m     \u001b[0mdistances\u001b[0m \u001b[0;34m=\u001b[0m \u001b[0;34m{\u001b[0m\u001b[0;34m}\u001b[0m\u001b[0;34m\u001b[0m\u001b[0;34m\u001b[0m\u001b[0m\n\u001b[1;32m      4\u001b[0m     \u001b[0;32mfor\u001b[0m \u001b[0mk\u001b[0m\u001b[0;34m,\u001b[0m\u001b[0mv\u001b[0m \u001b[0;32min\u001b[0m \u001b[0mimage_style_embeddings\u001b[0m\u001b[0;34m.\u001b[0m\u001b[0mitems\u001b[0m\u001b[0;34m(\u001b[0m\u001b[0;34m)\u001b[0m\u001b[0;34m:\u001b[0m\u001b[0;34m\u001b[0m\u001b[0;34m\u001b[0m\u001b[0m\n\u001b[1;32m      5\u001b[0m         \u001b[0md\u001b[0m \u001b[0;34m=\u001b[0m \u001b[0msc\u001b[0m\u001b[0;34m.\u001b[0m\u001b[0mspatial\u001b[0m\u001b[0;34m.\u001b[0m\u001b[0mdistance\u001b[0m\u001b[0;34m.\u001b[0m\u001b[0mcosine\u001b[0m\u001b[0;34m(\u001b[0m\u001b[0mv0\u001b[0m\u001b[0;34m,\u001b[0m \u001b[0mv\u001b[0m\u001b[0;34m)\u001b[0m\u001b[0;34m\u001b[0m\u001b[0;34m\u001b[0m\u001b[0m\n",
            "\u001b[0;31mNameError\u001b[0m: name 'image_style_embeddings' is not defined"
          ]
        }
      ]
    },
    {
      "cell_type": "code",
      "metadata": {
        "id": "s1LW5F2mjQHw",
        "colab_type": "code",
        "colab": {}
      },
      "source": [
        " "
      ],
      "execution_count": null,
      "outputs": []
    }
  ]
}